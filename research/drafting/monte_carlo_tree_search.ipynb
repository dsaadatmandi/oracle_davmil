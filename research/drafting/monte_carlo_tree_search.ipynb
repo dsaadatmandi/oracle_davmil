{
 "cells": [
  {
   "cell_type": "code",
   "execution_count": 2,
   "metadata": {},
   "outputs": [],
   "source": [
    "import numpy as np\n",
    "import pandas as pd\n",
    "import matplotlib.pyplot as plt\n",
    "import time\n",
    "\n",
    "from mtcs import MonteCarloTreeSearch\n",
    "from drafter import BasicDotaDraftingState, Action"
   ]
  },
  {
   "cell_type": "code",
   "execution_count": 3,
   "metadata": {},
   "outputs": [
    {
     "name": "stdout",
     "output_type": "stream",
     "text": [
      "Generated action: Pick hero 16 for player 1 in time 1.00(s)\n"
     ]
    }
   ],
   "source": [
    "# generate an action\n",
    "start = time.time()\n",
    "initialState = BasicDotaDraftingState()\n",
    "searcher = MonteCarloTreeSearch(time_limit=1000)\n",
    "action = searcher.search(initial_state=initialState, need_details=False)\n",
    "end = time.time()\n",
    "\n",
    "print(f\"Generated action: Pick hero {action.hero} for player {action.player} in time {end-start:.2f}(s)\")"
   ]
  },
  {
   "cell_type": "code",
   "execution_count": 20,
   "metadata": {},
   "outputs": [
    {
     "name": "stdout",
     "output_type": "stream",
     "text": [
      "Player 1 picked draft hero 89 with reward  0.62\n",
      "Player -1 picked draft hero 96 with reward  0.41\n",
      "Player 1 picked draft hero 0 with reward  0.66\n",
      "Player -1 picked draft hero 18 with reward  0.44\n",
      "Player 1 picked draft hero 16 with reward  0.68\n",
      "Player -1 picked draft hero 59 with reward  0.53\n",
      "Player 1 picked draft hero 104 with reward  0.64\n",
      "Player -1 picked draft hero 95 with reward  0.53\n",
      "Player 1 picked draft hero 87 with reward  0.67\n",
      "Player -1 picked draft hero 37 with reward  0.57\n"
     ]
    }
   ],
   "source": [
    "state = BasicDotaDraftingState()\n",
    "searcher = MonteCarloTreeSearch(time_limit=1000)\n",
    "\n",
    "while not (np.sum(state.get_draft() == 1) == np.sum(state.get_draft() == -1) == 5):\n",
    "    action_results = searcher.search(initial_state=state, need_details=True)\n",
    "    action, reward = action_results[\"action\"], action_results[\"expectedReward\"]\n",
    "    print(f\"Player {state.get_current_player()} picked draft hero {action.hero} with reward {reward: .2f}\")\n",
    "    state = state.take_action(action)"
   ]
  },
  {
   "cell_type": "code",
   "execution_count": 21,
   "metadata": {},
   "outputs": [
    {
     "data": {
      "text/plain": [
       "array([ 1.,  0.,  0.,  0.,  0.,  0.,  0.,  0.,  0.,  0.,  0.,  0.,  0.,\n",
       "        0.,  0.,  0.,  1.,  0., -1.,  0.,  0.,  0.,  0.,  0.,  0.,  0.,\n",
       "        0.,  0.,  0.,  0.,  0.,  0.,  0.,  0.,  0.,  0.,  0., -1.,  0.,\n",
       "        0.,  0.,  0.,  0.,  0.,  0.,  0.,  0.,  0.,  0.,  0.,  0.,  0.,\n",
       "        0.,  0.,  0.,  0.,  0.,  0.,  0., -1.,  0.,  0.,  0.,  0.,  0.,\n",
       "        0.,  0.,  0.,  0.,  0.,  0.,  0.,  0.,  0.,  0.,  0.,  0.,  0.,\n",
       "        0.,  0.,  0.,  0.,  0.,  0.,  0.,  0.,  0.,  1.,  0.,  1.,  0.,\n",
       "        0.,  0.,  0.,  0., -1., -1.,  0.,  0.,  0.,  0.,  0.,  0.,  0.,\n",
       "        1.,  0.,  0.,  0.,  0.,  0.,  0.])"
      ]
     },
     "execution_count": 21,
     "metadata": {},
     "output_type": "execute_result"
    }
   ],
   "source": [
    "game_output = state.get_draft()\n",
    "game_output"
   ]
  },
  {
   "cell_type": "code",
   "execution_count": 22,
   "metadata": {},
   "outputs": [],
   "source": [
    "# stolen from https://gist.github.com/Noxville/1a9ac4c48ce9d0994ef24000f9b664f7\n",
    "\n",
    "hero_id_mapping = {\n",
    "    1: \"antimage\",\n",
    "    2: \"axe\",\n",
    "    3: \"bane\",\n",
    "    4: \"bloodseeker\",\n",
    "    5: \"crystal_maiden\",\n",
    "    6: \"drow_ranger\",\n",
    "    7: \"earthshaker\",\n",
    "    8: \"juggernaut\",\n",
    "    9: \"mirana\",\n",
    "    10: \"morphling\",\n",
    "    11: \"nevermore\",\n",
    "    12: \"phantom_lancer\",\n",
    "    13: \"puck\",\n",
    "    14: \"pudge\",\n",
    "    15: \"razor\",\n",
    "    16: \"sand_king\",\n",
    "    17: \"storm_spirit\",\n",
    "    18: \"sven\",\n",
    "    19: \"tiny\",\n",
    "    20: \"vengefulspirit\",\n",
    "    21: \"windrunner\",\n",
    "    22: \"zuus\",\n",
    "    23: \"kunkka\",\n",
    "    25: \"lina\",\n",
    "    26: \"lion\",\n",
    "    27: \"shadow_shaman\",\n",
    "    28: \"slardar\",\n",
    "    29: \"tidehunter\",\n",
    "    30: \"witch_doctor\",\n",
    "    31: \"lich\",\n",
    "    32: \"riki\",\n",
    "    33: \"enigma\",\n",
    "    34: \"tinker\",\n",
    "    35: \"sniper\",\n",
    "    36: \"necrolyte\",\n",
    "    37: \"warlock\",\n",
    "    38: \"beastmaster\",\n",
    "    39: \"queenofpain\",\n",
    "    40: \"venomancer\",\n",
    "    41: \"faceless_void\",\n",
    "    42: \"skeleton_king\",\n",
    "    43: \"death_prophet\",\n",
    "    44: \"phantom_assassin\",\n",
    "    45: \"pugna\",\n",
    "    46: \"templar_assassin\",\n",
    "    47: \"viper\",\n",
    "    48: \"luna\",\n",
    "    49: \"dragon_knight\",\n",
    "    50: \"dazzle\",\n",
    "    51: \"rattletrap\",\n",
    "    52: \"leshrac\",\n",
    "    53: \"furion\",\n",
    "    54: \"life_stealer\",\n",
    "    55: \"dark_seer\",\n",
    "    56: \"clinkz\",\n",
    "    57: \"omniknight\",\n",
    "    58: \"enchantress\",\n",
    "    59: \"huskar\",\n",
    "    60: \"night_stalker\",\n",
    "    61: \"broodmother\",\n",
    "    62: \"bounty_hunter\",\n",
    "    63: \"weaver\",\n",
    "    64: \"jakiro\",\n",
    "    65: \"batrider\",\n",
    "    66: \"chen\",\n",
    "    67: \"spectre\",\n",
    "    69: \"doom_bringer\",\n",
    "    68: \"ancient_apparition\",\n",
    "    70: \"ursa\",\n",
    "    71: \"spirit_breaker\",\n",
    "    72: \"gyrocopter\",\n",
    "    73: \"alchemist\",\n",
    "    74: \"invoker\",\n",
    "    75: \"silencer\",\n",
    "    76: \"obsidian_destroyer\",\n",
    "    77: \"lycan\",\n",
    "    78: \"brewmaster\",\n",
    "    79: \"shadow_demon\",\n",
    "    80: \"lone_druid\",\n",
    "    81: \"chaos_knight\",\n",
    "    82: \"meepo\",\n",
    "    83: \"treant\",\n",
    "    84: \"ogre_magi\",\n",
    "    85: \"undying\",\n",
    "    86: \"rubick\",\n",
    "    87: \"disruptor\",\n",
    "    88: \"nyx_assassin\",\n",
    "    89: \"naga_siren\",\n",
    "    90: \"keeper_of_the_light\",\n",
    "    91: \"wisp\",\n",
    "    92: \"visage\",\n",
    "    93: \"slark\",\n",
    "    94: \"medusa\",\n",
    "    95: \"troll_warlord\",\n",
    "    96: \"centaur\",\n",
    "    97: \"magnataur\",\n",
    "    98: \"shredder\",\n",
    "    99: \"bristleback\",\n",
    "    100: \"tusk\",\n",
    "    101: \"skywrath_mage\",\n",
    "    102: \"abaddon\",\n",
    "    103: \"elder_titan\",\n",
    "    104: \"legion_commander\",\n",
    "    105: \"techies\",\n",
    "    106: \"ember_spirit\",\n",
    "    107: \"earth_spirit\",\n",
    "    109: \"terrorblade\",\n",
    "    110: \"phoenix\",\n",
    "    111: \"oracle\",\n",
    "    112: \"winter_wyvern\",\n",
    "    113: \"arc_warden\",\n",
    "}"
   ]
  },
  {
   "cell_type": "code",
   "execution_count": 23,
   "metadata": {},
   "outputs": [],
   "source": [
    "index_to_id_mapping = {idx: _id for idx, _id in enumerate(hero_id_mapping)}"
   ]
  },
  {
   "cell_type": "code",
   "execution_count": 24,
   "metadata": {},
   "outputs": [],
   "source": [
    "radiant = []\n",
    "dire = []\n",
    "radiant = [hero_id_mapping[index_to_id_mapping[idx]] for idx in np.argwhere(game_output == 1).flatten()]\n",
    "dire = [hero_id_mapping[index_to_id_mapping[idx]] for idx in np.argwhere(game_output == -1).flatten()]"
   ]
  },
  {
   "cell_type": "code",
   "execution_count": 25,
   "metadata": {},
   "outputs": [
    {
     "data": {
      "text/plain": [
       "['antimage', 'storm_spirit', 'naga_siren', 'wisp', 'ember_spirit']"
      ]
     },
     "execution_count": 25,
     "metadata": {},
     "output_type": "execute_result"
    }
   ],
   "source": [
    "radiant"
   ]
  },
  {
   "cell_type": "code",
   "execution_count": 26,
   "metadata": {},
   "outputs": [
    {
     "data": {
      "text/plain": [
       "['tiny', 'queenofpain', 'broodmother', 'magnataur', 'shredder']"
      ]
     },
     "execution_count": 26,
     "metadata": {},
     "output_type": "execute_result"
    }
   ],
   "source": [
    "dire"
   ]
  },
  {
   "cell_type": "code",
   "execution_count": null,
   "metadata": {},
   "outputs": [],
   "source": []
  }
 ],
 "metadata": {
  "kernelspec": {
   "display_name": "Python 3.9.12 ('dagon')",
   "language": "python",
   "name": "python3"
  },
  "language_info": {
   "codemirror_mode": {
    "name": "ipython",
    "version": 3
   },
   "file_extension": ".py",
   "mimetype": "text/x-python",
   "name": "python",
   "nbconvert_exporter": "python",
   "pygments_lexer": "ipython3",
   "version": "3.9.12"
  },
  "orig_nbformat": 4,
  "vscode": {
   "interpreter": {
    "hash": "a7b4e01e215f5e68a77fe71862d53fabbc6d54aee881e11b9a5e519ca5c461bb"
   }
  }
 },
 "nbformat": 4,
 "nbformat_minor": 2
}
